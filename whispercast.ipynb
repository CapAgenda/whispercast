{
  "cells": [
    {
      "cell_type": "markdown",
      "metadata": {
        "id": "view-in-github",
        "colab_type": "text"
      },
      "source": [
        "<a href=\"https://colab.research.google.com/github/CapAgenda/whispercast/blob/master/whispercast.ipynb\" target=\"_parent\"><img src=\"https://colab.research.google.com/assets/colab-badge.svg\" alt=\"Open In Colab\"/></a>"
      ]
    },
    {
      "cell_type": "markdown",
      "metadata": {
        "id": "v5hvo8QWN-a9"
      },
      "source": [
        "# Installing Whisper\n",
        "\n",
        "The commands below will install the Python packages needed to use Whisper models and evaluate the transcription results."
      ]
    },
    {
      "cell_type": "code",
      "execution_count": null,
      "metadata": {
        "id": "ZsJUxc0aRsAf"
      },
      "outputs": [],
      "source": [
        "! pip install git+https://github.com/openai/whisper.git\n",
        "! pip install jiwer"
      ]
    },
    {
      "cell_type": "markdown",
      "metadata": {
        "id": "1IMEkgyagYto"
      },
      "source": [
        "# Loading the Libraires\n",
        "\n",
        "The following will load the neccesary libraries"
      ]
    },
    {
      "cell_type": "code",
      "execution_count": null,
      "metadata": {
        "id": "3CqtR2Fi5-vP"
      },
      "outputs": [],
      "source": [
        "import os\n",
        "import numpy as np\n",
        "\n",
        "try:\n",
        "    import tensorflow  # required in Colab to avoid protobuf compatibility issues\n",
        "except ImportError:\n",
        "    pass\n",
        "\n",
        "import torch\n",
        "import pandas as pd\n",
        "import whisper\n",
        "import torchaudio\n",
        "from google.colab import files\n",
        "\n",
        "from tqdm.notebook import tqdm\n",
        "\n",
        "\n",
        "DEVICE = \"cuda\" if torch.cuda.is_available() else \"cpu\""
      ]
    },
    {
      "cell_type": "markdown",
      "metadata": {
        "id": "2MX6Ku_UMFNM"
      },
      "source": [
        "# Check if running GPU or CPU\n",
        "Running without GPU will take significantly longer (~2x the length of the podcast). Device should be 'cuda' for faster results"
      ]
    },
    {
      "cell_type": "code",
      "execution_count": null,
      "metadata": {
        "id": "o4rn_Q_mMFNN"
      },
      "outputs": [],
      "source": [
        "DEVICE"
      ]
    },
    {
      "cell_type": "markdown",
      "metadata": {
        "id": "pmNjIS6FMFNN"
      },
      "source": [
        "# Select Model Strength\n",
        "Larger models will be more accurate but will take longer to transcribe"
      ]
    },
    {
      "cell_type": "code",
      "execution_count": null,
      "metadata": {
        "id": "kMwE4qEDMFNO"
      },
      "outputs": [],
      "source": [
        "model_type = 'base' #@param [\"base\", \"small\", \"medium\", \"large\"]"
      ]
    },
    {
      "cell_type": "markdown",
      "metadata": {
        "id": "TYs5FjZSMFNO"
      },
      "source": [
        "# Upload the file to be transcribed\n",
        "Run the cell below; a button will appear to upload your audio file. Click the upload button and wait for the file to be 100%. If you would prefer to use a URL to the audio file input the url using the next cell below instead."
      ]
    },
    {
      "cell_type": "code",
      "execution_count": null,
      "metadata": {
        "id": "hkRrZUkxMFNP"
      },
      "outputs": [],
      "source": [
        "# to upload file from local drive, run this cell\n",
        "uploaded = files.upload()\n",
        "filename=[key for key in uploaded.keys()][0]"
      ]
    },
    {
      "cell_type": "code",
      "execution_count": null,
      "metadata": {
        "id": "kpXnPPSyMFNQ"
      },
      "outputs": [],
      "source": [
        "# to upload file from URL, run this cell instead of the above cell\n",
        "filename = input('Enter the URL: ')\n",
        "!wget {filename}"
      ]
    },
    {
      "cell_type": "markdown",
      "metadata": {
        "id": "ucnO6jqiMFNQ"
      },
      "source": [
        "# Transribe the audio file\n",
        "The below cell will transcribe the audio"
      ]
    },
    {
      "cell_type": "code",
      "execution_count": null,
      "metadata": {
        "id": "55FJT9yGMFNR"
      },
      "outputs": [],
      "source": [
        "\n",
        "model = whisper.load_model(model_type)\n",
        "result = model.transcribe(filename)"
      ]
    },
    {
      "cell_type": "markdown",
      "metadata": {
        "id": "V_nAgzqPMFNR"
      },
      "source": [
        "# Formatting the data\n",
        "Format the timestamps and create a cleaned list of the data to prepare for writing to file"
      ]
    },
    {
      "cell_type": "code",
      "execution_count": null,
      "metadata": {
        "id": "jDdrmQK1MFNS"
      },
      "outputs": [],
      "source": [
        "def make_readable(s):\n",
        "    return '{:02}:{:02}:{:02}'.format(s // 3600, s//60 % 60, s % 60)\n",
        "\n",
        "srt_list = []\n",
        "segments = result['segments']\n",
        "for segment in segments:\n",
        "  id = segment['id']\n",
        "  start = int(segment['start'])\n",
        "  start = make_readable(start)\n",
        "  end = int(segment['end'])\n",
        "  end = make_readable(end)\n",
        "  text = segment['text']\n",
        "  srt_list.append([id, start, end, text])"
      ]
    },
    {
      "cell_type": "markdown",
      "metadata": {
        "id": "oUiSJQj3MFNS"
      },
      "source": [
        "# Creating the SRT file\n",
        "Write the data to transcript file in SRT format.\n",
        "The file will appear in the Google Colab file list as transcript.srt\n",
        "Download the file and view in notepad to see results"
      ]
    },
    {
      "cell_type": "code",
      "execution_count": null,
      "metadata": {
        "id": "MIbjjqndMFNT"
      },
      "outputs": [],
      "source": [
        "with open('transcription.srt', 'w') as f:\n",
        "  for section in srt_list:\n",
        "    f.write(str(section[0]))\n",
        "    f.write('\\n')\n",
        "    f.write(str(section[1])+\",000 --> \"+str(section[2])+\",000\")\n",
        "    f.write('\\n')\n",
        "    f.write(section[3])\n",
        "    f.write('\\n')\n",
        "    f.write('\\n')"
      ]
    }
  ],
  "metadata": {
    "accelerator": "GPU",
    "colab": {
      "collapsed_sections": [],
      "provenance": [],
      "include_colab_link": true
    },
    "gpuClass": "standard",
    "kernelspec": {
      "display_name": "Python 3.10.5 64-bit",
      "language": "python",
      "name": "python3"
    },
    "language_info": {
      "codemirror_mode": {
        "name": "ipython",
        "version": 3
      },
      "file_extension": ".py",
      "mimetype": "text/x-python",
      "name": "python",
      "nbconvert_exporter": "python",
      "pygments_lexer": "ipython3",
      "version": "3.10.5"
    },
    "vscode": {
      "interpreter": {
        "hash": "369f2c481f4da34e4445cda3fffd2e751bd1c4d706f27375911949ba6bb62e1c"
      }
    }
  },
  "nbformat": 4,
  "nbformat_minor": 0
}